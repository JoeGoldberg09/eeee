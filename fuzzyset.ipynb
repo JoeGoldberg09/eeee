{
  "nbformat": 4,
  "nbformat_minor": 0,
  "metadata": {
    "colab": {
      "provenance": [],
      "authorship_tag": "ABX9TyNvnhv1BZPNvGaVSe8i3GtR",
      "include_colab_link": true
    },
    "kernelspec": {
      "name": "python3",
      "display_name": "Python 3"
    },
    "language_info": {
      "name": "python"
    }
  },
  "cells": [
    {
      "cell_type": "markdown",
      "metadata": {
        "id": "view-in-github",
        "colab_type": "text"
      },
      "source": [
        "<a href=\"https://colab.research.google.com/github/JoeGoldberg09/eeee/blob/main/fuzzyset.ipynb\" target=\"_parent\"><img src=\"https://colab.research.google.com/assets/colab-badge.svg\" alt=\"Open In Colab\"/></a>"
      ]
    },
    {
      "source": [
        "def fuzzy_union(set1, set2):\n",
        "    return {x: max(set1.get(x, 0), set2.get(x, 0)) for x in set(set1) | set(set2)}\n",
        "\n",
        "def fuzzy_intersection(set1, set2):\n",
        "    return {x: min(set1.get(x, 0), set2.get(x, 0)) for x in set(set1) | set(set2)}\n",
        "\n",
        "def fuzzy_complement(fuzzy_set):\n",
        "    return {x: round(1 - val, 2) for x, val in fuzzy_set.items()}\n",
        "\n",
        "A = {'a': 0.2, 'b': 0.5, 'c': 0.7}\n",
        "B = {'a': 0.6, 'b': 0.3, 'c': 0.8}\n",
        "C = {'a': 0.1, 'b': 0.9, 'c': 0.4}\n",
        "\n",
        "print(\"Fuzzy Set A:\", A)\n",
        "print(\"Fuzzy Set B:\", B)\n",
        "print(\"Fuzzy Set C:\", C)\n",
        "\n",
        "union_AB = fuzzy_union(A, B)\n",
        "intersection_AB = fuzzy_intersection(A, B)\n",
        "complement_A = fuzzy_complement(A)\n",
        "complement_B = fuzzy_complement(B)\n",
        "\n",
        "print(\"\\nUnion of A and B:\", union_AB)\n",
        "print(\"Intersection of A and B:\", intersection_AB)\n",
        "print(\"Complement of A:\", complement_A)\n",
        "print(\"Complement of B:\", complement_B)\n",
        "\n",
        "complement_union_AB = fuzzy_complement(union_AB)\n",
        "intersection_complements = fuzzy_intersection(complement_A, complement_B)\n",
        "\n",
        "print(\"\\nDe Morgan’s Law 1:\")\n",
        "print(\"Complement of Union (A ∪ B):\", complement_union_AB)\n",
        "print(\"Intersection of Complements (A' ∩ B'):\", intersection_complements)\n",
        "\n",
        "print(\"Law 1 Verified:\", complement_union_AB == intersection_complements)\n",
        "\n",
        "complement_intersection_AB = fuzzy_complement(intersection_AB)\n",
        "union_complements = fuzzy_union(complement_A, complement_B)\n",
        "\n",
        "print(\"\\nDe Morgan’s Law 2:\")\n",
        "print(\"Complement of Intersection (A ∩ B):\", complement_intersection_AB)\n",
        "print(\"Union of Complements (A' ∪ B'):\", union_complements)\n",
        "\n",
        "print(\"Law 2 Verified:\", complement_intersection_AB == union_complements)\n",
        "\n",
        "print(\"\\n--- Operations with 3 fuzzy sets A, B, C ---\")\n",
        "union_ABC = fuzzy_union(fuzzy_union(A, B), C)\n",
        "intersection_ABC = fuzzy_intersection(fuzzy_intersection(A, B), C)\n",
        "\n",
        "print(\"Union of A, B, and C:\", union_ABC)\n",
        "print(\"Intersection of A, B, and C:\", intersection_ABC)"
      ],
      "cell_type": "code",
      "metadata": {
        "id": "QXZfmoG4NdQl"
      },
      "execution_count": null,
      "outputs": []
    }
  ]
}