{
  "nbformat": 4,
  "nbformat_minor": 0,
  "metadata": {
    "colab": {
      "provenance": []
    },
    "kernelspec": {
      "name": "python3",
      "display_name": "Python 3"
    },
    "language_info": {
      "name": "python"
    }
  },
  "cells": [
    {
      "cell_type": "markdown",
      "source": [
        "# Recursive DFS (graph from .csv)\n"
      ],
      "metadata": {
        "id": "mVdz8rVBGJPn"
      }
    },
    {
      "cell_type": "code",
      "execution_count": null,
      "metadata": {
        "id": "mU2Fa5nDGFvp"
      },
      "outputs": [],
      "source": [
        "import csv\n",
        "\n",
        "def read_graph_from_csv(filename):\n",
        "    graph = {}\n",
        "    with open(filename, 'r') as file:\n",
        "        reader = csv.reader(file)\n",
        "        for row in reader:\n",
        "            graph[row[0]] = row[1:]\n",
        "    return graph\n",
        "\n",
        "def recursive_dfs(graph, node, visited=None):\n",
        "    if visited is None:\n",
        "        visited = set()\n",
        "    visited.add(node)\n",
        "    print(node, end=' ')\n",
        "    for neighbor in graph.get(node, []):\n",
        "        if neighbor not in visited:\n",
        "            recursive_dfs(graph, neighbor, visited)\n",
        "\n",
        "# Example usage:\n",
        "graph = read_graph_from_csv('graph.csv')\n",
        "start_node = input(\"Enter start node: \")\n",
        "recursive_dfs(graph, start_node)\n"
      ]
    },
    {
      "cell_type": "markdown",
      "source": [
        "# Non-Recursive DFS (graph from user)"
      ],
      "metadata": {
        "id": "3ygg27bpGPD1"
      }
    },
    {
      "cell_type": "code",
      "source": [
        "def read_graph_from_user():\n",
        "    graph = {}\n",
        "    n = int(input(\"Enter number of nodes: \"))\n",
        "    for _ in range(n):\n",
        "        node = input(\"Enter node name: \")\n",
        "        neighbors = input(f\"Enter neighbors of {node} separated by spaces: \").split()\n",
        "        graph[node] = neighbors\n",
        "    return graph\n",
        "\n",
        "def non_recursive_dfs(graph, start):\n",
        "    visited = set()\n",
        "    stack = [start]\n",
        "    while stack:\n",
        "        node = stack.pop()\n",
        "        if node not in visited:\n",
        "            print(node, end=' ')\n",
        "            visited.add(node)\n",
        "            stack.extend(reversed(graph.get(node, [])))\n",
        "\n",
        "# Example usage:\n",
        "graph = read_graph_from_user()\n",
        "start_node = input(\"Enter start node: \")\n",
        "non_recursive_dfs(graph, start_node)\n"
      ],
      "metadata": {
        "id": "bMBl9aJxGU6D"
      },
      "execution_count": null,
      "outputs": []
    },
    {
      "cell_type": "markdown",
      "source": [
        "# BFS (graph from user)\n"
      ],
      "metadata": {
        "id": "MtVuxMr1GbO5"
      }
    },
    {
      "cell_type": "code",
      "source": [
        "from collections import deque\n",
        "\n",
        "def bfs(graph, start):\n",
        "    visited = set()\n",
        "    queue = deque([start])\n",
        "    while queue:\n",
        "        node = queue.popleft()\n",
        "        if node not in visited:\n",
        "            print(node, end=' ')\n",
        "            visited.add(node)\n",
        "            queue.extend(graph.get(node, []))\n",
        "\n",
        "# Example usage:\n",
        "graph = read_graph_from_user()\n",
        "start_node = input(\"Enter start node: \")\n",
        "bfs(graph, start_node)\n"
      ],
      "metadata": {
        "id": "7j6oHXHIGYbj"
      },
      "execution_count": null,
      "outputs": []
    },
    {
      "cell_type": "markdown",
      "source": [
        "# Best First Search (directed, unweighted, graph + heuristic from user)\n"
      ],
      "metadata": {
        "id": "UHhN8ta_G7ax"
      }
    },
    {
      "cell_type": "code",
      "source": [
        "import heapq\n",
        "\n",
        "def best_first_search(graph, heuristics, start, goal):\n",
        "    visited = set()\n",
        "    heap = [(heuristics[start], start)]\n",
        "    while heap:\n",
        "        _, node = heapq.heappop(heap)\n",
        "        if node not in visited:\n",
        "            print(node, end=' ')\n",
        "            if node == goal:\n",
        "                break\n",
        "            visited.add(node)\n",
        "            for neighbor in graph.get(node, []):\n",
        "                if neighbor not in visited:\n",
        "                    heapq.heappush(heap, (heuristics[neighbor], neighbor))\n",
        "\n",
        "# Example usage:\n",
        "graph = read_graph_from_user()\n",
        "heuristics = {}\n",
        "for node in graph:\n",
        "    heuristics[node] = int(input(f\"Enter heuristic value for {node}: \"))\n",
        "start = input(\"Enter start node: \")\n",
        "goal = input(\"Enter goal node: \")\n",
        "best_first_search(graph, heuristics, start, goal)\n",
        "\n"
      ],
      "metadata": {
        "id": "U6akzyDCGhVN"
      },
      "execution_count": null,
      "outputs": []
    },
    {
      "cell_type": "markdown",
      "source": [
        "# Best First Search (undirected, weighted, graph + heuristic from user)"
      ],
      "metadata": {
        "id": "DxCLnzRgG_dN"
      }
    },
    {
      "cell_type": "code",
      "source": [
        "def read_weighted_graph_from_user():\n",
        "    graph = {}\n",
        "    n = int(input(\"Enter number of edges: \"))\n",
        "    for _ in range(n):\n",
        "        u, v, w = input(\"Enter edge (u v w): \").split()\n",
        "        w = int(w)\n",
        "        graph.setdefault(u, []).append((v, w))\n",
        "        graph.setdefault(v, []).append((u, w))\n",
        "    return graph\n",
        "\n",
        "def best_first_search_weighted(graph, heuristics, start, goal):\n",
        "    visited = set()\n",
        "    heap = [(heuristics[start], start)]\n",
        "    while heap:\n",
        "        _, node = heapq.heappop(heap)\n",
        "        if node not in visited:\n",
        "            print(node, end=' ')\n",
        "            if node == goal:\n",
        "                break\n",
        "            visited.add(node)\n",
        "            for neighbor, _ in graph.get(node, []):\n",
        "                if neighbor not in visited:\n",
        "                    heapq.heappush(heap, (heuristics[neighbor], neighbor))\n",
        "\n",
        "# Example usage:\n",
        "graph = read_weighted_graph_from_user()\n",
        "heuristics = {}\n",
        "for node in graph:\n",
        "    heuristics[node] = int(input(f\"Enter heuristic value for {node}: \"))\n",
        "start = input(\"Enter start node: \")\n",
        "goal = input(\"Enter goal node: \")\n",
        "best_first_search_weighted(graph, heuristics, start, goal)\n"
      ],
      "metadata": {
        "id": "4eKT3WggGjzo"
      },
      "execution_count": null,
      "outputs": []
    },
    {
      "cell_type": "markdown",
      "source": [
        "# Best First Search (Undirected, Unweighted Graph + Heuristics from user)"
      ],
      "metadata": {
        "id": "u1T94aMCHErD"
      }
    },
    {
      "cell_type": "code",
      "source": [
        "import heapq\n",
        "\n",
        "def read_unweighted_graph_from_user():\n",
        "    graph = {}\n",
        "    n = int(input(\"Enter number of nodes: \"))\n",
        "    for _ in range(n):\n",
        "        node = input(\"Enter node name: \")\n",
        "        neighbors = input(f\"Enter neighbors of {node} separated by spaces: \").split()\n",
        "        graph[node] = neighbors\n",
        "    return graph\n",
        "\n",
        "def best_first_search_unweighted(graph, heuristics, start, goal):\n",
        "    visited = set()\n",
        "    heap = [(heuristics[start], start)]\n",
        "    while heap:\n",
        "        _, node = heapq.heappop(heap)\n",
        "        if node not in visited:\n",
        "            print(node, end=' ')\n",
        "            if node == goal:\n",
        "                break\n",
        "            visited.add(node)\n",
        "            for neighbor in graph.get(node, []):\n",
        "                if neighbor not in visited:\n",
        "                    heapq.heappush(heap, (heuristics[neighbor], neighbor))\n",
        "\n",
        "# Example usage:\n",
        "graph = read_unweighted_graph_from_user()\n",
        "heuristics = {}\n",
        "for node in graph:\n",
        "    heuristics[node] = int(input(f\"Enter heuristic value for {node}: \"))\n",
        "start = input(\"Enter start node: \")\n",
        "goal = input(\"Enter goal node: \")\n",
        "best_first_search_unweighted(graph, heuristics, start, goal)\n"
      ],
      "metadata": {
        "id": "VGh3WtLEGnT0"
      },
      "execution_count": null,
      "outputs": []
    },
    {
      "cell_type": "markdown",
      "source": [
        "# Best First Search (Directed, Weighted Graph + Heuristics from user"
      ],
      "metadata": {
        "id": "7FX-Lj1jHFlQ"
      }
    },
    {
      "cell_type": "code",
      "source": [
        "import heapq\n",
        "\n",
        "def read_directed_weighted_graph_from_user():\n",
        "    graph = {}\n",
        "    n = int(input(\"Enter number of edges: \"))\n",
        "    for _ in range(n):\n",
        "        u, v, w = input(\"Enter edge (u v w): \").split()\n",
        "        w = int(w)\n",
        "        graph.setdefault(u, []).append((v, w))\n",
        "    return graph\n",
        "\n",
        "def best_first_search_directed_weighted(graph, heuristics, start, goal):\n",
        "    visited = set()\n",
        "    heap = [(heuristics[start], start)]\n",
        "    while heap:\n",
        "        _, node = heapq.heappop(heap)\n",
        "        if node not in visited:\n",
        "            print(node, end=' ')\n",
        "            if node == goal:\n",
        "                break\n",
        "            visited.add(node)\n",
        "            for neighbor, weight in graph.get(node, []):\n",
        "                if neighbor not in visited:\n",
        "                    heapq.heappush(heap, (heuristics[neighbor], neighbor))\n",
        "\n",
        "# Example usage:\n",
        "graph = read_directed_weighted_graph_from_user()\n",
        "heuristics = {}\n",
        "for node in graph:\n",
        "    heuristics[node] = int(input(f\"Enter heuristic value for {node}: \"))\n",
        "start = input(\"Enter start node: \")\n",
        "goal = input(\"Enter goal node: \")\n",
        "best_first_search_directed_weighted(graph, heuristics, start, goal)\n"
      ],
      "metadata": {
        "id": "Q2wLdAvyGr1h"
      },
      "execution_count": null,
      "outputs": []
    },
    {
      "cell_type": "markdown",
      "source": [
        "# A* Algorithm (Directed, Weighted Graph + Heuristics from CSV)"
      ],
      "metadata": {
        "id": "Lg8jcAAUHGAh"
      }
    },
    {
      "cell_type": "code",
      "source": [
        "import csv\n",
        "import heapq\n",
        "\n",
        "def read_directed_weighted_graph_from_csv(filename):\n",
        "    graph = {}\n",
        "    with open(filename, 'r') as file:\n",
        "        reader = csv.reader(file)\n",
        "        for row in reader:\n",
        "            u, v, w = row\n",
        "            w = int(w)\n",
        "            graph.setdefault(u, []).append((v, w))\n",
        "    return graph\n",
        "\n",
        "def read_heuristics_from_csv(filename):\n",
        "    heuristics = {}\n",
        "    with open(filename, 'r') as file:\n",
        "        reader = csv.reader(file)\n",
        "        for row in reader:\n",
        "            node, h = row\n",
        "            heuristics[node] = int(h)\n",
        "    return heuristics\n",
        "\n",
        "def astar_directed_weighted(graph, heuristics, start, goal):\n",
        "    heap = [(heuristics[start], 0, start)]  # (f=g+h, g, node)\n",
        "    visited = set()\n",
        "    while heap:\n",
        "        f, g, node = heapq.heappop(heap)\n",
        "        if node == goal:\n",
        "            print(node)\n",
        "            return\n",
        "        if node not in visited:\n",
        "            print(node, end=' ')\n",
        "            visited.add(node)\n",
        "            for neighbor, weight in graph.get(node, []):\n",
        "                if neighbor not in visited:\n",
        "                    heapq.heappush(heap, (g + weight + heuristics[neighbor], g + weight, neighbor))\n",
        "\n",
        "# Example usage:\n",
        "graph = read_directed_weighted_graph_from_csv('edges.csv')\n",
        "heuristics = read_heuristics_from_csv('heuristics.csv')\n",
        "start = input(\"Enter start node: \")\n",
        "goal = input(\"Enter goal node: \")\n",
        "astar_directed_weighted(graph, heuristics, start, goal)\n"
      ],
      "metadata": {
        "id": "EzwwJJDGGuFX"
      },
      "execution_count": null,
      "outputs": []
    },
    {
      "cell_type": "markdown",
      "source": [
        "# A* Algorithm (Directed, Weighted Graph + Heuristics from User)"
      ],
      "metadata": {
        "id": "pmnVy54JHGnr"
      }
    },
    {
      "cell_type": "code",
      "source": [
        "import heapq\n",
        "\n",
        "def read_directed_weighted_graph_from_user():\n",
        "    graph = {}\n",
        "    n = int(input(\"Enter number of edges: \"))\n",
        "    for _ in range(n):\n",
        "        u, v, w = input(\"Enter edge (u v w): \").split()\n",
        "        w = int(w)\n",
        "        graph.setdefault(u, []).append((v, w))\n",
        "    return graph\n",
        "\n",
        "def astar_directed_weighted_user(graph, heuristics, start, goal):\n",
        "    heap = [(heuristics[start], 0, start)]\n",
        "    visited = set()\n",
        "    while heap:\n",
        "        f, g, node = heapq.heappop(heap)\n",
        "        if node == goal:\n",
        "            print(node)\n",
        "            return\n",
        "        if node not in visited:\n",
        "            print(node, end=' ')\n",
        "            visited.add(node)\n",
        "            for neighbor, weight in graph.get(node, []):\n",
        "                if neighbor not in visited:\n",
        "                    heapq.heappush(heap, (g + weight + heuristics[neighbor], g + weight, neighbor))\n",
        "\n",
        "# Example usage:\n",
        "graph = read_directed_weighted_graph_from_user()\n",
        "heuristics = {}\n",
        "for node in graph:\n",
        "    heuristics[node] = int(input(f\"Enter heuristic value for {node}: \"))\n",
        "start = input(\"Enter start node: \")\n",
        "goal = input(\"Enter goal node: \")\n",
        "astar_directed_weighted_user(graph, heuristics, start, goal)\n"
      ],
      "metadata": {
        "id": "mojua4TnHD1n"
      },
      "execution_count": null,
      "outputs": []
    },
    {
      "cell_type": "markdown",
      "source": [
        "# A* Algorithm (Undirected, Weighted Graph + Heuristics from CSV)\n"
      ],
      "metadata": {
        "id": "AhnqvQwhHHFA"
      }
    },
    {
      "cell_type": "code",
      "source": [
        "import csv\n",
        "import heapq\n",
        "\n",
        "def read_undirected_weighted_graph_from_csv(filename):\n",
        "    graph = {}\n",
        "    with open(filename, 'r') as file:\n",
        "        reader = csv.reader(file)\n",
        "        for row in reader:\n",
        "            u, v, w = row\n",
        "            w = int(w)\n",
        "            graph.setdefault(u, []).append((v, w))\n",
        "            graph.setdefault(v, []).append((u, w))\n",
        "    return graph\n",
        "\n",
        "def read_heuristics_from_csv(filename):\n",
        "    heuristics = {}\n",
        "    with open(filename, 'r') as file:\n",
        "        reader = csv.reader(file)\n",
        "        for row in reader:\n",
        "            node, h = row\n",
        "            heuristics[node] = int(h)\n",
        "    return heuristics\n",
        "\n",
        "def astar_undirected_weighted(graph, heuristics, start, goal):\n",
        "    heap = [(heuristics[start], 0, start)]\n",
        "    visited = set()\n",
        "    while heap:\n",
        "        f, g, node = heapq.heappop(heap)\n",
        "        if node == goal:\n",
        "            print(node)\n",
        "            return\n",
        "        if node not in visited:\n",
        "            print(node, end=' ')\n",
        "            visited.add(node)\n",
        "            for neighbor, weight in graph.get(node, []):\n",
        "                if neighbor not in visited:\n",
        "                    heapq.heappush(heap, (g + weight + heuristics[neighbor], g + weight, neighbor))\n",
        "\n",
        "# Example usage:\n",
        "graph = read_undirected_weighted_graph_from_csv('edges.csv')\n",
        "heuristics = read_heuristics_from_csv('heuristics.csv')\n",
        "start = input(\"Enter start node: \")\n",
        "goal = input(\"Enter goal node: \")\n",
        "astar_undirected_weighted(graph, heuristics, start, goal)\n"
      ],
      "metadata": {
        "id": "4x9k4YvYHEKT"
      },
      "execution_count": null,
      "outputs": []
    },
    {
      "cell_type": "markdown",
      "source": [
        "# A* Algorithm (Undirected, Weighted Graph + Heuristics from User)\n"
      ],
      "metadata": {
        "id": "t2Re5SxvHHkw"
      }
    },
    {
      "cell_type": "code",
      "source": [
        "import heapq\n",
        "\n",
        "def read_undirected_weighted_graph_from_user():\n",
        "    graph = {}\n",
        "    n = int(input(\"Enter number of edges: \"))\n",
        "    for _ in range(n):\n",
        "        u, v, w = input(\"Enter edge (u v w): \").split()\n",
        "        w = int(w)\n",
        "        graph.setdefault(u, []).append((v, w))\n",
        "        graph.setdefault(v, []).append((u, w))\n",
        "    return graph\n",
        "\n",
        "def astar_undirected_weighted_user(graph, heuristics, start, goal):\n",
        "    heap = [(heuristics[start], 0, start)]  # (f = g + h, g, node)\n",
        "    visited = set()\n",
        "    while heap:\n",
        "        f, g, node = heapq.heappop(heap)\n",
        "        if node == goal:\n",
        "            print(node)\n",
        "            return\n",
        "        if node not in visited:\n",
        "            print(node, end=' ')\n",
        "            visited.add(node)\n",
        "            for neighbor, weight in graph.get(node, []):\n",
        "                if neighbor not in visited:\n",
        "                    new_g = g + weight\n",
        "                    new_f = new_g + heuristics[neighbor]\n",
        "                    heapq.heappush(heap, (new_f, new_g, neighbor))\n",
        "\n",
        "# Example usage:\n",
        "graph = read_undirected_weighted_graph_from_user()\n",
        "heuristics = {}\n",
        "nodes = set(graph.keys())\n",
        "for u in graph:\n",
        "    for v, _ in graph[u]:\n",
        "        nodes.add(v)\n",
        "\n",
        "for node in nodes:\n",
        "    heuristics[node] = int(input(f\"Enter heuristic value for {node}: \"))\n",
        "\n",
        "start = input(\"Enter start node: \")\n",
        "goal = input(\"Enter goal node: \")\n",
        "astar_undirected_weighted_user(graph, heuristics, start, goal)\n"
      ],
      "metadata": {
        "id": "NZ6Lr5T_HIBu"
      },
      "execution_count": null,
      "outputs": []
    }
  ]
}